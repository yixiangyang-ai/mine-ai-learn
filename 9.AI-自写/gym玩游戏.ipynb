{
  "cells": [
    {
      "cell_type": "code",
      "execution_count": null,
      "metadata": {
        "collapsed": true,
        "pycharm": {}
      },
      "outputs": [],
      "source": "from gridworld import GridWorldEnv\nfrom gym import spaces\n\nenv \u003d GridWorldEnv(n_width\u003d12,          # 水平方向格子数量\n                   n_height \u003d 4,        # 垂直方向格子数量\n                   u_size \u003d 60,         # 可以根据喜好调整大小\n                   default_reward \u003d -1, # 默认格子的即时奖励值\n                   default_type \u003d 0)    # 默认的格子都是可以进入的\nenv.action_space \u003d spaces.Discrete(4)   # 设置行为空间数量\n# 格子世界环境类默认使用0表示左，1：右，2：上，3:下，4,5,6,7为斜向行走\n# 具体可参考_step内的定义\n# 格子世界的观测空间不需要额外设置，会自动根据传输的格子数量计算得到\nenv.start \u003d (0,0)\nenv.ends \u003d [(11,0)]\nfor i in range(10):\n    env.rewards.append((i+1,0,-100))\n    env.ends.append((i+1,0))\nenv.types \u003d [(5,1,1),(5,2,1)]\nenv.refresh_setting()\nenv.reset()\nenv.render()\ninput(\"press any key to continue...\")\n"
    }
  ],
  "metadata": {
    "language_info": {
      "codemirror_mode": {
        "name": "ipython",
        "version": 2
      },
      "file_extension": ".py",
      "mimetype": "text/x-python",
      "name": "python",
      "nbconvert_exporter": "python",
      "pygments_lexer": "ipython2",
      "version": "2.7.6"
    },
    "kernelspec": {
      "name": "python3",
      "language": "python",
      "display_name": "Python 3"
    }
  },
  "nbformat": 4,
  "nbformat_minor": 0
}