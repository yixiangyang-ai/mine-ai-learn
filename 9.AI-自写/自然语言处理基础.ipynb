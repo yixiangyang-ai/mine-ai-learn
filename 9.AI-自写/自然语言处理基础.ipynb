{
  "cells": [
    {
      "cell_type": "code",
      "execution_count": 1,
      "metadata": {
        "collapsed": true,
        "pycharm": {
          "is_executing": false
        }
      },
      "outputs": [],
      "source": "#1.快速去除中文标点（read的时候要以utf8格式）\nimport re\n\ndef clean_str(string):\n    string \u003d re.sub(\"[^\\u4e00-\\u9fff]\", \" \", string)\n    string \u003d re.sub(r\"\\s{2,}\", \" \", string)#合并多个空格为一个\n    return string.strip()\n"
    },
    {
      "cell_type": "code",
      "execution_count": null,
      "outputs": [],
      "source": "#2.快速分词,默认一行为一样本\ndef seperate_line(string):\n    return \u0027\u0027.join([word + \u0027 \u0027 for word in jieba.cut(string)])\n\nf\u003dopen(\"xxx\",\u0027r\u0027,encoding\u003d\"utf8\")\nlines \u003d list(f.readlines())\nlines \u003d [clean_str(seperate_line(line)) for line in lines]\n",
      "metadata": {
        "pycharm": {
          "metadata": false,
          "name": "#%%\n"
        }
      }
    },
    {
      "cell_type": "code",
      "execution_count": null,
      "outputs": [],
      "source": "#3.分行，使得一行为一句\n\nfor line in lines\n  line.replace(\u0027\\n\u0027,\u0027\u0027).replace(\u0027，\u0027,\u0027\\n\u0027).replace(\u0027。\u0027,\u0027\\n\u0027).replace(\u0027！\u0027,\u0027\\n\u0027).replace(\u0027？\u0027,\u0027\\n\u0027)\n",
      "metadata": {
        "pycharm": {
          "metadata": false,
          "name": "#%%\n"
        }
      }
    },
    {
      "cell_type": "code",
      "execution_count": null,
      "outputs": [],
      "source": "#4.语料训练集生成\n\ndef load_positive_negative_data_files(positive_data_file_path, negative_data_file_path):\n    positive_example_lists \u003d read_and_clean_zh_file(positive_data_file_path)\n    #positive_example_lists ---\u003e 0维度上为样本有多少句句子，1维度上为每句的string，单词间空格隔开\n    negative_example_lists \u003d read_and_clean_zh_file(negative_data_file_path)\n    #positive_example_lists ---\u003e 形式同上\n    # Combine data\n    x_text \u003d positive_example_lists + negative_example_lists\n    # Generate labels\n    positive_labels \u003d [[1] for _ in positive_example_lists]\n    negative_labels \u003d [[0] for _ in negative_example_lists]\n    y \u003d np.concatenate([positive_labels, negative_labels], 0)\n    return [x_text, y]",
      "metadata": {
        "pycharm": {
          "metadata": false,
          "name": "#%%\n"
        }
      }
    },
    {
      "cell_type": "code",
      "execution_count": null,
      "outputs": [],
      "source": "#7.打乱np矩阵的方法\n\nx\u003d[0,1,2,3,4,5,6]\nx\u003dnp.array(x)\nnp.random.seed(10)\nshuffle_indices \u003d np.random.permutation(np.arange(len(x)))\nprint(shuffle_indices)\nx_shuffled \u003d x[shuffle_indices]\nprint(x_shuffled)\n\n",
      "metadata": {
        "pycharm": {
          "metadata": false,
          "name": "#%%\n"
        }
      }
    }
  ],
  "metadata": {
    "language_info": {
      "codemirror_mode": {
        "name": "ipython",
        "version": 2
      },
      "file_extension": ".py",
      "mimetype": "text/x-python",
      "name": "python",
      "nbconvert_exporter": "python",
      "pygments_lexer": "ipython2",
      "version": "2.7.6"
    },
    "kernelspec": {
      "name": "python3",
      "language": "python",
      "display_name": "Python 3"
    }
  },
  "nbformat": 4,
  "nbformat_minor": 0
}