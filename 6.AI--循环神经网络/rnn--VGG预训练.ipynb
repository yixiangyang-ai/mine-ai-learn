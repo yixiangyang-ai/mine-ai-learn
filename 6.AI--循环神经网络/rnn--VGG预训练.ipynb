{
  "cells": [
    {
      "cell_type": "raw",
      "metadata": {
        "pycharm": {}
      },
      "source": [
        "# 实验一\n",
        "加载预定义VGG16网络参数，并在Kaggle猫/狗数据集上进行微调和测试"
      ]
    },
    {
      "cell_type": "markdown",
      "metadata": {
        "pycharm": {}
      },
      "source": [
        "## 1.加载keras模块"
      ]
    },
    {
      "cell_type": "code",
      "execution_count": 8,
      "metadata": {
        "pycharm": {}
      },
      "outputs": [],
      "source": "from keras.preprocessing.image import ImageDataGenerator\nfrom keras.models import Sequential\nfrom keras.layers import Convolution2D, MaxPooling2D,ZeroPadding2D\nfrom keras.layers import Activation, Dropout, Flatten, Dense, Input\nfrom keras.utils import to_categorical\nfrom keras.preprocessing.image import img_to_array\nfrom keras.applications.vgg16 import preprocess_input, VGG16\nfrom keras import backend as K\nimport numpy as np"
    },
    {
      "cell_type": "markdown",
      "metadata": {
        "pycharm": {}
      },
      "source": "### 加载预训练权值\n\n"
    },
    {
      "cell_type": "markdown",
      "metadata": {
        "pycharm": {}
      },
      "source": [
        "### 定义新加入的layers"
      ]
    },
    {
      "cell_type": "code",
      "execution_count": 9,
      "metadata": {
        "pycharm": {}
      },
      "outputs": [],
      "source": [
        "img_width, img_height \u003d 150, 150\n",
        "if K.image_data_format() \u003d\u003d \u0027channels_first\u0027:\n",
        "    input_shape \u003d (3, img_width, img_height)\n",
        "else:\n",
        "    input_shape \u003d (img_width, img_height, 3)\n",
        "    \n",
        "# LOAD VGG16\n",
        "input_tensor \u003d Input(shape\u003dinput_shape)\n",
        "model \u003d VGG16(weights\u003d\u0027imagenet\u0027, \n",
        "                           include_top\u003dFalse,\n",
        "                           input_tensor\u003dinput_tensor)\n",
        "\n",
        "top_model \u003d Sequential()\n",
        "top_model.add(Flatten(input_shape\u003dmodel.output_shape[1:]))\n",
        "top_model.add(Dense(256, activation\u003d\u0027relu\u0027))\n",
        "top_model.add(Dropout(0.5))\n",
        "top_model.add(Dense(2, activation\u003d\u0027softmax\u0027))\n",
        "#top_model.load_weights(top_model_weights_path)\n",
        "\n",
        "\n",
        "# CREATE AN \"REAL\" MODEL FROM VGG16\n",
        "# BY COPYING ALL THE LAYERS OF VGG16\n",
        "new_model \u003d Sequential()\n",
        "for l in model.layers:\n",
        "    new_model.add(l)\n",
        "new_model.add(top_model)"
      ]
    },
    {
      "cell_type": "markdown",
      "metadata": {
        "pycharm": {}
      },
      "source": [
        "### 设置不需微调的layers的trainable属性\n",
        "并调用compile函数重新编译网络"
      ]
    },
    {
      "cell_type": "code",
      "execution_count": 10,
      "metadata": {
        "pycharm": {}
      },
      "outputs": [],
      "source": "from keras.optimizers import SGD\nfor layer in new_model.layers[:4]:\n    layer.trainable \u003d False\n#compile the model with a SGD/momentum optimizer\n# and a very slow learning rate.\nnew_model.compile(loss\u003d\u0027categorical_crossentropy\u0027,\n              optimizer\u003dSGD(lr\u003d1e-4, momentum\u003d0.9),\n              metrics\u003d[\u0027accuracy\u0027])"
    },
    {
      "cell_type": "markdown",
      "metadata": {
        "pycharm": {}
      },
      "source": [
        "### 定义ImageDataGenerator\n"
      ]
    },
    {
      "cell_type": "code",
      "execution_count": 11,
      "metadata": {
        "pycharm": {}
      },
      "outputs": [
        {
          "name": "stdout",
          "output_type": "stream",
          "text": [
            "Found 10835 images belonging to 2 classes.\n",
            "Found 4000 images belonging to 2 classes.\n"
          ]
        }
      ],
      "source": [
        "train_data_dir \u003d r\u0027C:\\Users\\coffe\\Desktop\\dogs-vs-cats\\train\u0027\n",
        "validation_data_dir \u003d r\u0027C:\\Users\\coffe\\Desktop\\dogs-vs-cats\\validation\u0027\n",
        "nb_train_samples \u003d 10835\n",
        "nb_validation_samples \u003d 4000\n",
        "epochs \u003d 1\n",
        "batch_size \u003d 20\n",
        "\n",
        "\n",
        "# this is the augmentation configuration we will use for training\n",
        "train_datagen \u003d ImageDataGenerator(\n",
        "    rescale\u003d1. / 255,\n",
        "    shear_range\u003d0.2,\n",
        "    zoom_range\u003d0.2,\n",
        "    horizontal_flip\u003dTrue)\n",
        "\n",
        "# this is the augmentation configuration we will use for testing:\n",
        "# only rescaling\n",
        "test_datagen \u003d ImageDataGenerator(rescale\u003d1. / 255)\n",
        "\n",
        "train_generator \u003d train_datagen.flow_from_directory(\n",
        "    train_data_dir,\n",
        "    target_size\u003d(img_width, img_height),\n",
        "    batch_size\u003dbatch_size,\n",
        "    class_mode\u003d\u0027categorical\u0027)\n",
        "\n",
        "validation_generator \u003d test_datagen.flow_from_directory(\n",
        "    validation_data_dir,\n",
        "    target_size\u003d(img_width, img_height),\n",
        "    batch_size\u003dbatch_size,\n",
        "    class_mode\u003d\u0027categorical\u0027)\n",
        "\n"
      ]
    },
    {
      "cell_type": "markdown",
      "metadata": {
        "pycharm": {}
      },
      "source": [
        "### 训练模型\n",
        "\n"
      ]
    },
    {
      "cell_type": "code",
      "execution_count": 12,
      "metadata": {
        "scrolled": false,
        "pycharm": {}
      },
      "outputs": [
        {
          "name": "stdout",
          "output_type": "stream",
          "text": [
            "Epoch 1/1\n",
            "541/541 [\u003d\u003d\u003d\u003d\u003d\u003d\u003d\u003d\u003d\u003d\u003d\u003d\u003d\u003d\u003d\u003d\u003d\u003d\u003d\u003d\u003d\u003d\u003d\u003d\u003d\u003d\u003d\u003d\u003d\u003d] - 253s 467ms/step - loss: 0.3200 - accuracy: 0.8505 - val_loss: 0.1355 - val_accuracy: 0.9337\n"
          ]
        },
        {
          "data": {
            "text/plain": [
              "\u003ckeras.callbacks.callbacks.History at 0x1e0d921ff28\u003e"
            ]
          },
          "execution_count": 12,
          "metadata": {},
          "output_type": "execute_result"
        }
      ],
      "source": [
        "new_model.fit_generator(\n",
        "    train_generator,\n",
        "    steps_per_epoch\u003dnb_train_samples // batch_size,\n",
        "    epochs\u003depochs,\n",
        "    validation_data\u003dvalidation_generator,\n",
        "    validation_steps\u003dnb_validation_samples // batch_size)"
      ]
    },
    {
      "cell_type": "markdown",
      "metadata": {
        "pycharm": {}
      },
      "source": [
        "### 使用训练后模型预测图像\n",
        "\n",
        "\n",
        "\n"
      ]
    },
    {
      "cell_type": "code",
      "execution_count": 16,
      "metadata": {
        "pycharm": {}
      },
      "outputs": [
        {
          "name": "stdout",
          "output_type": "stream",
          "text": [
            "[[0. 1.]]\n"
          ]
        }
      ],
      "source": [
        "import cv2\n",
        "img \u003d cv2.resize(cv2.imread(r\u0027C:\\Users\\coffe\\Desktop\\dogs-vs-cats\\test\\1.jpg\u0027), (img_width, img_height)).astype(np.float32)\n",
        "# img[:,:,0] -\u003d 103.939\n",
        "# img[:,:,1] -\u003d 116.779\n",
        "# img[:,:,2] -\u003d 123.68\n",
        "#img \u003d img.transpose((2,0,1))\n",
        "x \u003d img_to_array(img)\n",
        "\n",
        "x \u003d np.expand_dims(x, axis\u003d0)\n",
        "\n",
        "#x \u003d preprocess_input(x)\n",
        "\n",
        "score \u003d new_model.predict(x)\n",
        "\n",
        "\n",
        "print(score)"
      ]
    }
  ],
  "metadata": {
    "kernelspec": {
      "display_name": "Python 3",
      "language": "python",
      "name": "python3"
    },
    "language_info": {
      "codemirror_mode": {
        "name": "ipython",
        "version": 3
      },
      "file_extension": ".py",
      "mimetype": "text/x-python",
      "name": "python",
      "nbconvert_exporter": "python",
      "pygments_lexer": "ipython3",
      "version": "3.6.8"
    },
    "ssap_exp_config": {
      "error_alert": "Error Occurs!",
      "initial": [],
      "max_iteration": 1000,
      "recv_id": "",
      "running": [],
      "summary": [],
      "version": "1.1.1"
    }
  },
  "nbformat": 4,
  "nbformat_minor": 1
}