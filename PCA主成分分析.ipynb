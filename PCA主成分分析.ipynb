{
  "cells": [
    {
      "cell_type": "code",
      "execution_count": null,
      "outputs": [],
      "source": "\n##1.首先引入numpy，由于測试中用到了pandas和matplotlib。所以这里一并载入\nimport numpy as np\nimport pandas as pd\nimport matplotlib.pyplot as plt",
      "metadata": {
        "pycharm": {
          "metadata": false,
          "name": "#%%\n"
        }
      }
    },
    {
      "cell_type": "code",
      "execution_count": null,
      "outputs": [],
      "source": "#计算均值,要求输入数据为numpy的矩阵格式，行表示样本数，列表示特征    \ndef meanX(dataX):\n    return np.mean(dataX,axis\u003d0)#axis\u003d0表示按照列来求均值，如果输入list,则axis\u003d1\n",
      "metadata": {
        "pycharm": {
          "metadata": false,
          "name": "#%%\n"
        }
      }
    },
    {
      "cell_type": "code",
      "execution_count": null,
      "outputs": [],
      "source": "#计算方差,传入的是一个numpy的矩阵格式，行表示样本数，列表示特征    \ndef variance(X):\n    m, n \u003d np.shape(X)\n    mu \u003d meanX(X)\n    muAll \u003d np.tile(mu, (m, 1))    \n    X1 \u003d X - muAll\n    variance \u003d 1./m * np.diag(X1.T * X1)\n    return variance",
      "metadata": {
        "pycharm": {
          "metadata": false,
          "name": "#%%\n"
        }
      }
    },
    {
      "cell_type": "code",
      "execution_count": null,
      "outputs": [],
      "source": "#标准化,传入的是一个numpy的矩阵格式，行表示样本数，列表示特征    \ndef normalize(X):\n    m, n \u003d np.shape(X)\n    mu \u003d meanX(X)\n    muAll \u003d np.tile(mu, (m, 1))    \n    X1 \u003d X - muAll\n    X2 \u003d np.tile(np.diag(X.T * X), (m, 1))\n    XNorm \u003d X1/X2\n    return XNorm\n\n\"\"\"\n参数：\n\t- XMat：传入的是一个numpy的矩阵格式，行表示样本数，列表示特征    \n\t- k：表示取前k个特征值对应的特征向量\n返回值：\n\t- finalData：参数一指的是返回的低维矩阵，对应于输入参数二\n\t- reconData：参数二对应的是移动坐标轴后的矩阵\n\"\"\" ",
      "metadata": {
        "pycharm": {
          "metadata": false,
          "name": "#%%\n"
        }
      }
    },
    {
      "cell_type": "code",
      "execution_count": null,
      "outputs": [],
      "source": "def pca(XMat, k):\n    average \u003d meanX(XMat) \n    m, n \u003d np.shape(XMat)\n    data_adjust \u003d []\n    avgs \u003d np.tile(average, (m, 1))\n    data_adjust \u003d XMat - avgs\n    covX \u003d np.cov(data_adjust.T)   #计算协方差矩阵\n    featValue, featVec\u003d  np.linalg.eig(covX)  #求解协方差矩阵的特征值和特征向量\n    index \u003d np.argsort(-featValue) #按照featValue进行从大到小排序\n    finalData \u003d []\n    if k \u003e n:\n        print (\"k must lower than feature number\")\n        return\n    else:\n        #注意特征向量时列向量，而numpy的二维矩阵(数组)a[m][n]中，a[1]表示第1行值\n        selectVec \u003d np.matrix(featVec.T[index[:k]]) #所以这里需要进行转置\n        finalData \u003d data_adjust * selectVec.T \n        reconData \u003d (finalData * selectVec) + average  \n    return finalData, reconData",
      "metadata": {
        "pycharm": {
          "metadata": false,
          "name": "#%%\n"
        }
      }
    },
    {
      "cell_type": "code",
      "execution_count": null,
      "outputs": [],
      "source": "def loaddata(datafile):\n    return np.array(pd.read_csv(datafile,sep\u003d\"\\t\",header\u003d-1)).astype(np.float)\n",
      "metadata": {
        "pycharm": {
          "metadata": false,
          "name": "#%%\n"
        }
      }
    },
    {
      "cell_type": "code",
      "execution_count": null,
      "outputs": [],
      "source": "def plotBestFit(data1, data2):\t  \n    dataArr1 \u003d np.array(data1)\n    dataArr2 \u003d np.array(data2)\n    \n    m \u003d np.shape(dataArr1)[0]\n    axis_x1 \u003d []\n    axis_y1 \u003d []\n    axis_x2 \u003d []\n    axis_y2 \u003d []\n    for i in range(m):\n        axis_x1.append(dataArr1[i,0])\n        axis_y1.append(dataArr1[i,1])\n        axis_x2.append(dataArr2[i,0]) \n        axis_y2.append(dataArr2[i,1])\t\t\t\t  \n    fig \u003d plt.figure()\n    ax \u003d fig.add_subplot(111)\n    ax.scatter(axis_x1, axis_y1, s\u003d50, c\u003d\u0027red\u0027, marker\u003d\u0027s\u0027)\n    ax.scatter(axis_x2, axis_y2, s\u003d50, c\u003d\u0027blue\u0027)\n    plt.xlabel(\u0027x1\u0027); plt.ylabel(\u0027x2\u0027);\n    plt.savefig(\"outfile.png\")\n    plt.show()\t\n\n#根据数据集data.txt",
      "metadata": {
        "pycharm": {
          "metadata": false,
          "name": "#%%\n"
        }
      }
    },
    {
      "cell_type": "code",
      "execution_count": null,
      "outputs": [],
      "source": "def main():    \n    datafile \u003d \"data.txt\"\n    XMat \u003d loaddata(datafile)\n    k \u003d 2\n    return pca(XMat, k)\n\nif __name__ \u003d\u003d \"__main__\":\n    finalData, reconMat \u003d main()\n    plotBestFit(finalData, reconMat)",
      "metadata": {
        "pycharm": {
          "metadata": false,
          "name": "#%%\n"
        }
      }
    },
    {
      "cell_type": "code",
      "execution_count": null,
      "metadata": {
        "collapsed": true,
        "pycharm": {}
      },
      "outputs": [],
      "source": ""
    }
  ],
  "metadata": {
    "language_info": {
      "codemirror_mode": {
        "name": "ipython",
        "version": 2
      },
      "file_extension": ".py",
      "mimetype": "text/x-python",
      "name": "python",
      "nbconvert_exporter": "python",
      "pygments_lexer": "ipython2",
      "version": "2.7.6"
    },
    "kernelspec": {
      "name": "python3",
      "language": "python",
      "display_name": "Python 3"
    },
    "stem_cell": {
      "cell_type": "raw",
      "source": "",
      "metadata": {
        "pycharm": {
          "metadata": false
        }
      }
    }
  },
  "nbformat": 4,
  "nbformat_minor": 0
}